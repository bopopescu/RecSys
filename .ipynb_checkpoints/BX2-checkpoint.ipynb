{
 "cells": [
  {
   "cell_type": "code",
   "execution_count": 1,
   "metadata": {},
   "outputs": [
    {
     "name": "stderr",
     "output_type": "stream",
     "text": [
      "/home/hophamtenquang/PE/env/local/lib/python2.7/site-packages/IPython/core/interactiveshell.py:2718: DtypeWarning: Columns (0,2) have mixed types. Specify dtype option on import or set low_memory=False.\n",
      "  interactivity=interactivity, compiler=compiler, result=result)\n",
      "/home/hophamtenquang/PE/env/local/lib/python2.7/site-packages/IPython/core/interactiveshell.py:2718: DtypeWarning: Columns (12,13) have mixed types. Specify dtype option on import or set low_memory=False.\n",
      "  interactivity=interactivity, compiler=compiler, result=result)\n"
     ]
    },
    {
     "data": {
      "text/html": [
       "<div>\n",
       "<style>\n",
       "    .dataframe thead tr:only-child th {\n",
       "        text-align: right;\n",
       "    }\n",
       "\n",
       "    .dataframe thead th {\n",
       "        text-align: left;\n",
       "    }\n",
       "\n",
       "    .dataframe tbody tr th {\n",
       "        vertical-align: top;\n",
       "    }\n",
       "</style>\n",
       "<table border=\"1\" class=\"dataframe\">\n",
       "  <thead>\n",
       "    <tr style=\"text-align: right;\">\n",
       "      <th></th>\n",
       "      <th>userId</th>\n",
       "      <th>ISBN</th>\n",
       "      <th>Rating</th>\n",
       "    </tr>\n",
       "  </thead>\n",
       "  <tbody>\n",
       "    <tr>\n",
       "      <th>1</th>\n",
       "      <td>276725</td>\n",
       "      <td>034545104X</td>\n",
       "      <td>0</td>\n",
       "    </tr>\n",
       "    <tr>\n",
       "      <th>2</th>\n",
       "      <td>276726</td>\n",
       "      <td>0155061224</td>\n",
       "      <td>5</td>\n",
       "    </tr>\n",
       "    <tr>\n",
       "      <th>3</th>\n",
       "      <td>276727</td>\n",
       "      <td>0446520802</td>\n",
       "      <td>0</td>\n",
       "    </tr>\n",
       "    <tr>\n",
       "      <th>4</th>\n",
       "      <td>276729</td>\n",
       "      <td>052165615X</td>\n",
       "      <td>3</td>\n",
       "    </tr>\n",
       "    <tr>\n",
       "      <th>5</th>\n",
       "      <td>276729</td>\n",
       "      <td>0521795028</td>\n",
       "      <td>6</td>\n",
       "    </tr>\n",
       "  </tbody>\n",
       "</table>\n",
       "</div>"
      ],
      "text/plain": [
       "   userId        ISBN Rating\n",
       "1  276725  034545104X      0\n",
       "2  276726  0155061224      5\n",
       "3  276727  0446520802      0\n",
       "4  276729  052165615X      3\n",
       "5  276729  0521795028      6"
      ]
     },
     "execution_count": 1,
     "metadata": {},
     "output_type": "execute_result"
    }
   ],
   "source": [
    "import pandas as pd\n",
    "\n",
    "# User columns, using to read csv\n",
    "u_cols = ['User-ID', 'Location', 'Age']\n",
    "users = pd.read_csv('BX-CSV-Dump/BX-Users.csv', sep=';', names=u_cols, encoding='latin-1')\n",
    "\n",
    "# Book columns, using to read CSV\n",
    "b_cols = ['ISBN', 'Book-Title', 'Book-Author', 'Year-Of-Publication',\n",
    "          'Publisher', 'Image-URL-S', 'Image-URL-M', 'Image-URL-L', '1', '2', '3', '4', '5', '6'\n",
    "         ]\n",
    "books = pd.read_csv('BX-CSV-Dump/BX-Books.csv', sep=',', names=b_cols, encoding='utf-8')\n",
    "books.loc[:, 'ISBN':'Book-Author']\n",
    "\n",
    "# Rating column, using to read CSV\n",
    "r_cols = [\"userId\", \"ISBN\", \"Rating\"]\n",
    "ratings = pd.read_csv('BX-CSV-Dump/BX-Book-Ratings.csv', sep=';', names=r_cols, encoding='latin-1')\n",
    "ratings = ratings[1:]; users = users[1:]; books = books[1:]\n",
    "ratings.head()"
   ]
  },
  {
   "cell_type": "code",
   "execution_count": 6,
   "metadata": {},
   "outputs": [],
   "source": [
    "import sys\n",
    "default_stdout = sys.stdout\n",
    "default_stderr = sys.stderr\n",
    "reload(sys)\n",
    "sys.stdout = default_stdout\n",
    "sys.stderr = default_stderr\n",
    "sys.setdefaultencoding('utf-8')\n",
    "import graphlab\n",
    "ratings['userId'] = ratings['userId'].astype(str)\n",
    "ratings['ISBN'] = ratings['ISBN'].astype(str)\n",
    "ratings['Rating'] = ratings['Rating'].astype(int)\n",
    "data = graphlab.SFrame(ratings)"
   ]
  },
  {
   "cell_type": "code",
   "execution_count": 7,
   "metadata": {},
   "outputs": [
    {
     "data": {
      "text/html": [
       "<pre>Recsys training: model = popularity</pre>"
      ],
      "text/plain": [
       "Recsys training: model = popularity"
      ]
     },
     "metadata": {},
     "output_type": "display_data"
    },
    {
     "data": {
      "text/html": [
       "<pre>Preparing data set.</pre>"
      ],
      "text/plain": [
       "Preparing data set."
      ]
     },
     "metadata": {},
     "output_type": "display_data"
    },
    {
     "data": {
      "text/html": [
       "<pre>    Data has 1149780 observations with 105283 users and 340556 items.</pre>"
      ],
      "text/plain": [
       "    Data has 1149780 observations with 105283 users and 340556 items."
      ]
     },
     "metadata": {},
     "output_type": "display_data"
    },
    {
     "data": {
      "text/html": [
       "<pre>    Data prepared in: 0.867708s</pre>"
      ],
      "text/plain": [
       "    Data prepared in: 0.867708s"
      ]
     },
     "metadata": {},
     "output_type": "display_data"
    },
    {
     "data": {
      "text/html": [
       "<pre>1149780 observations to process; with 340556 unique items.</pre>"
      ],
      "text/plain": [
       "1149780 observations to process; with 340556 unique items."
      ]
     },
     "metadata": {},
     "output_type": "display_data"
    },
    {
     "name": "stdout",
     "output_type": "stream",
     "text": [
      "+--------+-------------+-------+------+\n",
      "| userId |     ISBN    | score | rank |\n",
      "+--------+-------------+-------+------+\n",
      "| 276725 |  0967819946 |  10.0 |  1   |\n",
      "| 276725 |  1550415107 |  10.0 |  2   |\n",
      "| 276725 |  8420442909 |  10.0 |  3   |\n",
      "| 276725 |  0553382098 |  10.0 |  4   |\n",
      "| 276725 |  1550416723 |  10.0 |  5   |\n",
      "| 276725 | 15504717320 |  10.0 |  6   |\n",
      "| 276725 |  0062771507 |  10.0 |  7   |\n",
      "| 276725 |  185813871X |  10.0 |  8   |\n",
      "| 276725 |  0590411861 |  10.0 |  9   |\n",
      "| 276725 |  1899434488 |  10.0 |  10  |\n",
      "| 276725 |  0802116485 |  10.0 |  11  |\n",
      "| 276725 |  1852700483 |  10.0 |  12  |\n",
      "| 276725 |  0671531441 |  10.0 |  13  |\n",
      "| 276725 |  0786881097 |  10.0 |  14  |\n",
      "| 276725 |  067144722X |  10.0 |  15  |\n",
      "| 276725 |  0861630343 |  10.0 |  16  |\n",
      "| 276725 |  1558746862 |  10.0 |  17  |\n",
      "| 276725 |  0860209393 |  10.0 |  18  |\n",
      "| 276725 |  1931333246 |  10.0 |  19  |\n",
      "| 276725 |  1878067273 |  10.0 |  20  |\n",
      "| 276725 |  0812570057 |  10.0 |  21  |\n",
      "| 276725 |  0806946466 |  10.0 |  22  |\n",
      "| 276725 |  0762727942 |  10.0 |  23  |\n",
      "| 276725 |  0142300128 |  10.0 |  24  |\n",
      "| 276725 |  0671733370 |  10.0 |  25  |\n",
      "| 276725 |  1559718641 |  10.0 |  26  |\n",
      "| 276725 |  8401813123 |  10.0 |  27  |\n",
      "| 276725 |  0877286477 |  10.0 |  28  |\n",
      "| 276725 |  0140481621 |  10.0 |  29  |\n",
      "| 276725 |  8440682697 |  10.0 |  30  |\n",
      "| 276725 |  080502669X |  10.0 |  31  |\n",
      "| 276725 |  0807281530 |  10.0 |  32  |\n",
      "| 276725 |  096737930X |  10.0 |  33  |\n",
      "| 276725 |  0723237840 |  10.0 |  34  |\n",
      "| 276725 |  0723216371 |  10.0 |  35  |\n",
      "| 276725 |  0679737391 |  10.0 |  36  |\n",
      "| 276725 |  0721406173 |  10.0 |  37  |\n",
      "| 276725 |  0152022740 |  10.0 |  38  |\n",
      "| 276725 |  1861870612 |  10.0 |  39  |\n",
      "| 276725 |  1900234033 |  10.0 |  40  |\n",
      "| 276725 |  0439417848 |  10.0 |  41  |\n",
      "| 276725 | 44009577075 |  10.0 |  42  |\n",
      "| 276725 |  0600400409 |  10.0 |  43  |\n",
      "| 276725 |  0306801531 |  10.0 |  44  |\n",
      "| 276725 |  0385295251 |  10.0 |  45  |\n",
      "| 276725 |  059070592X |  10.0 |  46  |\n",
      "| 276725 |  1588370232 |  10.0 |  47  |\n",
      "| 276725 |  1877733113 |  10.0 |  48  |\n",
      "| 276725 |  0140378006 |  10.0 |  49  |\n",
      "| 276725 |  0216927781 |  10.0 |  50  |\n",
      "+--------+-------------+-------+------+\n",
      "[50 rows x 4 columns]\n",
      "\n"
     ]
    }
   ],
   "source": [
    "popularity_model = graphlab.popularity_recommender.create(data, user_id='userId', item_id='ISBN', target='Rating')\n",
    "popularity_recomm = popularity_model.recommend(users=[276725,],k=50)\n",
    "popularity_recomm.print_rows(num_rows=50)"
   ]
  },
  {
   "cell_type": "code",
   "execution_count": 8,
   "metadata": {},
   "outputs": [
    {
     "data": {
      "text/plain": [
       "ISBN\n",
       "0862418917    10.0\n",
       "8440682697    10.0\n",
       "8440684096    10.0\n",
       "1573540706    10.0\n",
       "0871352427    10.0\n",
       "157356303X    10.0\n",
       "0871319853    10.0\n",
       "1573660949    10.0\n",
       "0440585732    10.0\n",
       "0140193588    10.0\n",
       "0440585031    10.0\n",
       "1573800759    10.0\n",
       "0140193529    10.0\n",
       "8440688288    10.0\n",
       "1573890049    10.0\n",
       "8440690509    10.0\n",
       "157392010X    10.0\n",
       "0140192417    10.0\n",
       "1573920630    10.0\n",
       "087131789     10.0\n",
       "Name: Rating, dtype: float64"
      ]
     },
     "execution_count": 8,
     "metadata": {},
     "output_type": "execute_result"
    }
   ],
   "source": [
    "ratings.groupby(by='ISBN')['Rating'].mean().sort_values(ascending=False).head(20)"
   ]
  },
  {
   "cell_type": "code",
   "execution_count": null,
   "metadata": {},
   "outputs": [],
   "source": [
    "train_data, test_data = sf.random_split(.9, seed=5)"
   ]
  },
  {
   "cell_type": "code",
   "execution_count": null,
   "metadata": {
    "collapsed": true
   },
   "outputs": [],
   "source": []
  }
 ],
 "metadata": {
  "kernelspec": {
   "display_name": "Python 2",
   "language": "python",
   "name": "python2"
  },
  "language_info": {
   "codemirror_mode": {
    "name": "ipython",
    "version": 2
   },
   "file_extension": ".py",
   "mimetype": "text/x-python",
   "name": "python",
   "nbconvert_exporter": "python",
   "pygments_lexer": "ipython2",
   "version": "2.7.12"
  }
 },
 "nbformat": 4,
 "nbformat_minor": 2
}

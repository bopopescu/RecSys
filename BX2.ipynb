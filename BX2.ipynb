{
 "cells": [
  {
   "cell_type": "code",
   "execution_count": 1,
   "metadata": {},
   "outputs": [
    {
     "name": "stderr",
     "output_type": "stream",
     "text": [
      "/home/hophamtenquang/PE/env/local/lib/python2.7/site-packages/IPython/core/interactiveshell.py:2718: DtypeWarning: Columns (0,2) have mixed types. Specify dtype option on import or set low_memory=False.\n",
      "  interactivity=interactivity, compiler=compiler, result=result)\n",
      "/home/hophamtenquang/PE/env/local/lib/python2.7/site-packages/IPython/core/interactiveshell.py:2718: DtypeWarning: Columns (12,13) have mixed types. Specify dtype option on import or set low_memory=False.\n",
      "  interactivity=interactivity, compiler=compiler, result=result)\n"
     ]
    },
    {
     "data": {
      "text/html": [
       "<div>\n",
       "<style>\n",
       "    .dataframe thead tr:only-child th {\n",
       "        text-align: right;\n",
       "    }\n",
       "\n",
       "    .dataframe thead th {\n",
       "        text-align: left;\n",
       "    }\n",
       "\n",
       "    .dataframe tbody tr th {\n",
       "        vertical-align: top;\n",
       "    }\n",
       "</style>\n",
       "<table border=\"1\" class=\"dataframe\">\n",
       "  <thead>\n",
       "    <tr style=\"text-align: right;\">\n",
       "      <th></th>\n",
       "      <th>userId</th>\n",
       "      <th>ISBN</th>\n",
       "      <th>Rating</th>\n",
       "    </tr>\n",
       "  </thead>\n",
       "  <tbody>\n",
       "    <tr>\n",
       "      <th>1</th>\n",
       "      <td>276725</td>\n",
       "      <td>034545104X</td>\n",
       "      <td>0</td>\n",
       "    </tr>\n",
       "    <tr>\n",
       "      <th>2</th>\n",
       "      <td>276726</td>\n",
       "      <td>0155061224</td>\n",
       "      <td>5</td>\n",
       "    </tr>\n",
       "    <tr>\n",
       "      <th>3</th>\n",
       "      <td>276727</td>\n",
       "      <td>0446520802</td>\n",
       "      <td>0</td>\n",
       "    </tr>\n",
       "    <tr>\n",
       "      <th>4</th>\n",
       "      <td>276729</td>\n",
       "      <td>052165615X</td>\n",
       "      <td>3</td>\n",
       "    </tr>\n",
       "    <tr>\n",
       "      <th>5</th>\n",
       "      <td>276729</td>\n",
       "      <td>0521795028</td>\n",
       "      <td>6</td>\n",
       "    </tr>\n",
       "  </tbody>\n",
       "</table>\n",
       "</div>"
      ],
      "text/plain": [
       "   userId        ISBN Rating\n",
       "1  276725  034545104X      0\n",
       "2  276726  0155061224      5\n",
       "3  276727  0446520802      0\n",
       "4  276729  052165615X      3\n",
       "5  276729  0521795028      6"
      ]
     },
     "execution_count": 1,
     "metadata": {},
     "output_type": "execute_result"
    }
   ],
   "source": [
    "import pandas as pd\n",
    "\n",
    "# User columns, using to read csv\n",
    "u_cols = ['User-ID', 'Location', 'Age']\n",
    "users = pd.read_csv('BX-CSV-Dump/BX-Users.csv', sep=';', names=u_cols, encoding='latin-1')\n",
    "\n",
    "# Book columns, using to read CSV\n",
    "b_cols = ['ISBN', 'Book-Title', 'Book-Author', 'Year-Of-Publication',\n",
    "          'Publisher', 'Image-URL-S', 'Image-URL-M', 'Image-URL-L', '1', '2', '3', '4', '5', '6'\n",
    "         ]\n",
    "books = pd.read_csv('BX-CSV-Dump/BX-Books.csv', sep=',', names=b_cols, encoding='utf-8')\n",
    "books.loc[:, 'ISBN':'Book-Author']\n",
    "\n",
    "# Rating column, using to read CSV\n",
    "r_cols = [\"userId\", \"ISBN\", \"Rating\"]\n",
    "ratings = pd.read_csv('BX-CSV-Dump/BX-Book-Ratings.csv', sep=';', names=r_cols, encoding='latin-1')\n",
    "ratings = ratings[1:]; users = users[1:]; books = books[1:]\n",
    "ratings.head()"
   ]
  },
  {
   "cell_type": "code",
   "execution_count": 2,
   "metadata": {},
   "outputs": [
    {
     "name": "stdout",
     "output_type": "stream",
     "text": [
      "This non-commercial license of GraphLab Create for academic use is assigned to hophamtenquang@gmail.com and will expire on August 22, 2018.\n"
     ]
    },
    {
     "name": "stderr",
     "output_type": "stream",
     "text": [
      "[INFO] graphlab.cython.cy_server: GraphLab Create v2.1 started. Logging: /tmp/graphlab_server_1503904799.log\n"
     ]
    }
   ],
   "source": [
    "import sys\n",
    "default_stdout = sys.stdout\n",
    "default_stderr = sys.stderr\n",
    "reload(sys)\n",
    "sys.stdout = default_stdout\n",
    "sys.stderr = default_stderr\n",
    "sys.setdefaultencoding('utf-8')\n",
    "import graphlab\n",
    "ratings['userId'] = ratings['userId'].astype(str)\n",
    "ratings['ISBN'] = ratings['ISBN'].astype(str)\n",
    "ratings['Rating'] = ratings['Rating'].astype(int)\n",
    "train_data = graphlab.SFrame(ratings)"
   ]
  },
  {
   "cell_type": "code",
   "execution_count": 3,
   "metadata": {},
   "outputs": [
    {
     "data": {
      "text/html": [
       "<pre>Recsys training: model = popularity</pre>"
      ],
      "text/plain": [
       "Recsys training: model = popularity"
      ]
     },
     "metadata": {},
     "output_type": "display_data"
    },
    {
     "data": {
      "text/html": [
       "<pre>Preparing data set.</pre>"
      ],
      "text/plain": [
       "Preparing data set."
      ]
     },
     "metadata": {},
     "output_type": "display_data"
    },
    {
     "data": {
      "text/html": [
       "<pre>    Data has 1149780 observations with 105283 users and 340556 items.</pre>"
      ],
      "text/plain": [
       "    Data has 1149780 observations with 105283 users and 340556 items."
      ]
     },
     "metadata": {},
     "output_type": "display_data"
    },
    {
     "data": {
      "text/html": [
       "<pre>    Data prepared in: 0.880697s</pre>"
      ],
      "text/plain": [
       "    Data prepared in: 0.880697s"
      ]
     },
     "metadata": {},
     "output_type": "display_data"
    },
    {
     "data": {
      "text/html": [
       "<pre>1149780 observations to process; with 340556 unique items.</pre>"
      ],
      "text/plain": [
       "1149780 observations to process; with 340556 unique items."
      ]
     },
     "metadata": {},
     "output_type": "display_data"
    },
    {
     "name": "stdout",
     "output_type": "stream",
     "text": [
      "+--------+-------------+-------+------+\n",
      "| userId |     ISBN    | score | rank |\n",
      "+--------+-------------+-------+------+\n",
      "| 276725 |  8401479428 |  10.0 |  1   |\n",
      "| 276725 |  0060522615 |  10.0 |  2   |\n",
      "| 276725 |  3407281617 |  10.0 |  3   |\n",
      "| 276725 |  1591293774 |  10.0 |  4   |\n",
      "| 276725 | 01401.47748 |  10.0 |  5   |\n",
      "| 276725 |  01402.1962 |  10.0 |  6   |\n",
      "| 276725 |  0413158101 |  10.0 |  7   |\n",
      "| 276725 |  8873806562 |  10.0 |  8   |\n",
      "| 276725 |  1551090848 |  10.0 |  9   |\n",
      "| 276725 |  0760707251 |  10.0 |  10  |\n",
      "| 276725 |  0743474341 |  10.0 |  11  |\n",
      "| 276725 |  0393093484 |  10.0 |  12  |\n",
      "| 276725 |  0967408105 |  10.0 |  13  |\n",
      "| 276725 |  0449906825 |  10.0 |  14  |\n",
      "| 276725 |  0590395165 |  10.0 |  15  |\n",
      "| 276725 |  1877657190 |  10.0 |  16  |\n",
      "| 276725 |  1579905331 |  10.0 |  17  |\n",
      "| 276725 |  0709073712 |  10.0 |  18  |\n",
      "| 276725 |  1410760075 |  10.0 |  19  |\n",
      "| 276725 |  1414072716 |  10.0 |  20  |\n",
      "| 276725 |  0821414534 |  10.0 |  21  |\n",
      "| 276725 |  8472238962 |  10.0 |  22  |\n",
      "| 276725 |  0805061401 |  10.0 |  23  |\n",
      "| 276725 |  0805053980 |  10.0 |  24  |\n",
      "| 276725 |  1592866646 |  10.0 |  25  |\n",
      "+--------+-------------+-------+------+\n",
      "[50 rows x 4 columns]\n",
      "\n"
     ]
    }
   ],
   "source": [
    "popularity_model = graphlab.popularity_recommender.create(train_data, user_id='userId', item_id='ISBN', target='Rating')\n",
    "popularity_recomm = popularity_model.recommend(users=[276725,],k=50)\n",
    "popularity_recomm.print_rows(num_rows=25)"
   ]
  },
  {
   "cell_type": "code",
   "execution_count": 9,
   "metadata": {},
   "outputs": [
    {
     "data": {
      "text/plain": [
       "ISBN\n",
       "0862418917    10.0\n",
       "8440682697    10.0\n",
       "8440684096    10.0\n",
       "1573540706    10.0\n",
       "0871352427    10.0\n",
       "157356303X    10.0\n",
       "0871319853    10.0\n",
       "1573660949    10.0\n",
       "0440585732    10.0\n",
       "0140193588    10.0\n",
       "0440585031    10.0\n",
       "1573800759    10.0\n",
       "0140193529    10.0\n",
       "8440688288    10.0\n",
       "1573890049    10.0\n",
       "8440690509    10.0\n",
       "157392010X    10.0\n",
       "0140192417    10.0\n",
       "1573920630    10.0\n",
       "087131789     10.0\n",
       "Name: Rating, dtype: float64"
      ]
     },
     "execution_count": 9,
     "metadata": {},
     "output_type": "execute_result"
    }
   ],
   "source": [
    "ratings.groupby(by='ISBN')['Rating'].mean().sort_values(ascending=False).head(20)"
   ]
  },
  {
   "cell_type": "code",
   "execution_count": null,
   "metadata": {},
   "outputs": [
    {
     "data": {
      "text/html": [
       "<pre>Recsys training: model = item_similarity</pre>"
      ],
      "text/plain": [
       "Recsys training: model = item_similarity"
      ]
     },
     "metadata": {},
     "output_type": "display_data"
    },
    {
     "data": {
      "text/html": [
       "<pre>Preparing data set.</pre>"
      ],
      "text/plain": [
       "Preparing data set."
      ]
     },
     "metadata": {},
     "output_type": "display_data"
    },
    {
     "data": {
      "text/html": [
       "<pre>    Data has 1149780 observations with 105283 users and 340556 items.</pre>"
      ],
      "text/plain": [
       "    Data has 1149780 observations with 105283 users and 340556 items."
      ]
     },
     "metadata": {},
     "output_type": "display_data"
    },
    {
     "data": {
      "text/html": [
       "<pre>    Data prepared in: 0.881652s</pre>"
      ],
      "text/plain": [
       "    Data prepared in: 0.881652s"
      ]
     },
     "metadata": {},
     "output_type": "display_data"
    },
    {
     "data": {
      "text/html": [
       "<pre>Training model from provided data.</pre>"
      ],
      "text/plain": [
       "Training model from provided data."
      ]
     },
     "metadata": {},
     "output_type": "display_data"
    },
    {
     "data": {
      "text/html": [
       "<pre>Gathering per-item and per-user statistics.</pre>"
      ],
      "text/plain": [
       "Gathering per-item and per-user statistics."
      ]
     },
     "metadata": {},
     "output_type": "display_data"
    },
    {
     "data": {
      "text/html": [
       "<pre>+--------------------------------+------------+</pre>"
      ],
      "text/plain": [
       "+--------------------------------+------------+"
      ]
     },
     "metadata": {},
     "output_type": "display_data"
    },
    {
     "data": {
      "text/html": [
       "<pre>| Elapsed Time (Item Statistics) | % Complete |</pre>"
      ],
      "text/plain": [
       "| Elapsed Time (Item Statistics) | % Complete |"
      ]
     },
     "metadata": {},
     "output_type": "display_data"
    },
    {
     "data": {
      "text/html": [
       "<pre>+--------------------------------+------------+</pre>"
      ],
      "text/plain": [
       "+--------------------------------+------------+"
      ]
     },
     "metadata": {},
     "output_type": "display_data"
    },
    {
     "data": {
      "text/html": [
       "<pre>| 1.423ms                        | 4.5        |</pre>"
      ],
      "text/plain": [
       "| 1.423ms                        | 4.5        |"
      ]
     },
     "metadata": {},
     "output_type": "display_data"
    },
    {
     "data": {
      "text/html": [
       "<pre>| 75.796ms                       | 100        |</pre>"
      ],
      "text/plain": [
       "| 75.796ms                       | 100        |"
      ]
     },
     "metadata": {},
     "output_type": "display_data"
    },
    {
     "data": {
      "text/html": [
       "<pre>+--------------------------------+------------+</pre>"
      ],
      "text/plain": [
       "+--------------------------------+------------+"
      ]
     },
     "metadata": {},
     "output_type": "display_data"
    },
    {
     "data": {
      "text/html": [
       "<pre>Setting up lookup tables.</pre>"
      ],
      "text/plain": [
       "Setting up lookup tables."
      ]
     },
     "metadata": {},
     "output_type": "display_data"
    },
    {
     "data": {
      "text/html": [
       "<pre>Processing data in one pass using sparse lookup tables.</pre>"
      ],
      "text/plain": [
       "Processing data in one pass using sparse lookup tables."
      ]
     },
     "metadata": {},
     "output_type": "display_data"
    },
    {
     "data": {
      "text/html": [
       "<pre>+-------------------------------------+------------------+-----------------+</pre>"
      ],
      "text/plain": [
       "+-------------------------------------+------------------+-----------------+"
      ]
     },
     "metadata": {},
     "output_type": "display_data"
    },
    {
     "data": {
      "text/html": [
       "<pre>| Elapsed Time (Constructing Lookups) | Total % Complete | Items Processed |</pre>"
      ],
      "text/plain": [
       "| Elapsed Time (Constructing Lookups) | Total % Complete | Items Processed |"
      ]
     },
     "metadata": {},
     "output_type": "display_data"
    },
    {
     "data": {
      "text/html": [
       "<pre>+-------------------------------------+------------------+-----------------+</pre>"
      ],
      "text/plain": [
       "+-------------------------------------+------------------+-----------------+"
      ]
     },
     "metadata": {},
     "output_type": "display_data"
    },
    {
     "data": {
      "text/html": [
       "<pre>| 997.85ms                            | 0                | 0               |</pre>"
      ],
      "text/plain": [
       "| 997.85ms                            | 0                | 0               |"
      ]
     },
     "metadata": {},
     "output_type": "display_data"
    },
    {
     "data": {
      "text/html": [
       "<pre>| 2.00s                               | 7.25             | 24946           |</pre>"
      ],
      "text/plain": [
       "| 2.00s                               | 7.25             | 24946           |"
      ]
     },
     "metadata": {},
     "output_type": "display_data"
    },
    {
     "data": {
      "text/html": [
       "<pre>| 3.01s                               | 12.75            | 43904           |</pre>"
      ],
      "text/plain": [
       "| 3.01s                               | 12.75            | 43904           |"
      ]
     },
     "metadata": {},
     "output_type": "display_data"
    },
    {
     "data": {
      "text/html": [
       "<pre>| 4.35s                               | 13               | 44447           |</pre>"
      ],
      "text/plain": [
       "| 4.35s                               | 13               | 44447           |"
      ]
     },
     "metadata": {},
     "output_type": "display_data"
    },
    {
     "data": {
      "text/html": [
       "<pre>| 39.20s                              | 13.25            | 45172           |</pre>"
      ],
      "text/plain": [
       "| 39.20s                              | 13.25            | 45172           |"
      ]
     },
     "metadata": {},
     "output_type": "display_data"
    },
    {
     "data": {
      "text/html": [
       "<pre>| 48.36s                              | 13.25            | 45748           |</pre>"
      ],
      "text/plain": [
       "| 48.36s                              | 13.25            | 45748           |"
      ]
     },
     "metadata": {},
     "output_type": "display_data"
    },
    {
     "data": {
      "text/html": [
       "<pre>| 50.77s                              | 14               | 48443           |</pre>"
      ],
      "text/plain": [
       "| 50.77s                              | 14               | 48443           |"
      ]
     },
     "metadata": {},
     "output_type": "display_data"
    },
    {
     "data": {
      "text/html": [
       "<pre>| 51.82s                              | 15               | 51474           |</pre>"
      ],
      "text/plain": [
       "| 51.82s                              | 15               | 51474           |"
      ]
     },
     "metadata": {},
     "output_type": "display_data"
    },
    {
     "data": {
      "text/html": [
       "<pre>| 52.94s                              | 29.75            | 101403          |</pre>"
      ],
      "text/plain": [
       "| 52.94s                              | 29.75            | 101403          |"
      ]
     },
     "metadata": {},
     "output_type": "display_data"
    },
    {
     "data": {
      "text/html": [
       "<pre>| 53.88s                              | 30.25            | 103063          |</pre>"
      ],
      "text/plain": [
       "| 53.88s                              | 30.25            | 103063          |"
      ]
     },
     "metadata": {},
     "output_type": "display_data"
    },
    {
     "data": {
      "text/html": [
       "<pre>| 57.56s                              | 30.5             | 104056          |</pre>"
      ],
      "text/plain": [
       "| 57.56s                              | 30.5             | 104056          |"
      ]
     },
     "metadata": {},
     "output_type": "display_data"
    },
    {
     "data": {
      "text/html": [
       "<pre>| 59.87s                              | 30.5             | 104068          |</pre>"
      ],
      "text/plain": [
       "| 59.87s                              | 30.5             | 104068          |"
      ]
     },
     "metadata": {},
     "output_type": "display_data"
    }
   ],
   "source": [
    "#Train Model\n",
    "item_sim_model = graphlab.item_similarity_recommender.create(train_data, user_id='userId', item_id='ISBN', target='Rating', similarity_type='pearson')"
   ]
  },
  {
   "cell_type": "code",
   "execution_count": null,
   "metadata": {
    "collapsed": true
   },
   "outputs": [],
   "source": []
  }
 ],
 "metadata": {
  "kernelspec": {
   "display_name": "Python 2",
   "language": "python",
   "name": "python2"
  },
  "language_info": {
   "codemirror_mode": {
    "name": "ipython",
    "version": 2
   },
   "file_extension": ".py",
   "mimetype": "text/x-python",
   "name": "python",
   "nbconvert_exporter": "python",
   "pygments_lexer": "ipython2",
   "version": "2.7.12"
  }
 },
 "nbformat": 4,
 "nbformat_minor": 2
}
